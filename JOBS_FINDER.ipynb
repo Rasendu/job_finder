{
  "nbformat": 4,
  "nbformat_minor": 0,
  "metadata": {
    "colab": {
      "provenance": [],
      "gpuType": "T4"
    },
    "kernelspec": {
      "name": "python3",
      "display_name": "Python 3"
    },
    "language_info": {
      "name": "python"
    },
    "accelerator": "GPU"
  },
  "cells": [
    {
      "cell_type": "code",
      "execution_count": null,
      "metadata": {
        "colab": {
          "base_uri": "https://localhost:8080/"
        },
        "collapsed": true,
        "id": "yCYLs5yfZteZ",
        "outputId": "240aaa02-e376-4f4e-9ab8-6c0f5e174a5c"
      },
      "outputs": [
        {
          "output_type": "stream",
          "name": "stdout",
          "text": [
            "Requirement already satisfied: cohere in /usr/local/lib/python3.11/dist-packages (5.13.11)\n",
            "Requirement already satisfied: flask in /usr/local/lib/python3.11/dist-packages (3.1.0)\n",
            "Requirement already satisfied: pandas in /usr/local/lib/python3.11/dist-packages (2.2.2)\n",
            "Requirement already satisfied: fastavro<2.0.0,>=1.9.4 in /usr/local/lib/python3.11/dist-packages (from cohere) (1.10.0)\n",
            "Requirement already satisfied: httpx>=0.21.2 in /usr/local/lib/python3.11/dist-packages (from cohere) (0.28.1)\n",
            "Requirement already satisfied: httpx-sse==0.4.0 in /usr/local/lib/python3.11/dist-packages (from cohere) (0.4.0)\n",
            "Requirement already satisfied: pydantic>=1.9.2 in /usr/local/lib/python3.11/dist-packages (from cohere) (2.10.5)\n",
            "Requirement already satisfied: pydantic-core<3.0.0,>=2.18.2 in /usr/local/lib/python3.11/dist-packages (from cohere) (2.27.2)\n",
            "Requirement already satisfied: requests<3.0.0,>=2.0.0 in /usr/local/lib/python3.11/dist-packages (from cohere) (2.32.3)\n",
            "Requirement already satisfied: tokenizers<1,>=0.15 in /usr/local/lib/python3.11/dist-packages (from cohere) (0.21.0)\n",
            "Requirement already satisfied: types-requests<3.0.0,>=2.0.0 in /usr/local/lib/python3.11/dist-packages (from cohere) (2.32.0.20241016)\n",
            "Requirement already satisfied: typing_extensions>=4.0.0 in /usr/local/lib/python3.11/dist-packages (from cohere) (4.12.2)\n",
            "Requirement already satisfied: Werkzeug>=3.1 in /usr/local/lib/python3.11/dist-packages (from flask) (3.1.3)\n",
            "Requirement already satisfied: Jinja2>=3.1.2 in /usr/local/lib/python3.11/dist-packages (from flask) (3.1.5)\n",
            "Requirement already satisfied: itsdangerous>=2.2 in /usr/local/lib/python3.11/dist-packages (from flask) (2.2.0)\n",
            "Requirement already satisfied: click>=8.1.3 in /usr/local/lib/python3.11/dist-packages (from flask) (8.1.8)\n",
            "Requirement already satisfied: blinker>=1.9 in /usr/local/lib/python3.11/dist-packages (from flask) (1.9.0)\n",
            "Requirement already satisfied: numpy>=1.23.2 in /usr/local/lib/python3.11/dist-packages (from pandas) (1.26.4)\n",
            "Requirement already satisfied: python-dateutil>=2.8.2 in /usr/local/lib/python3.11/dist-packages (from pandas) (2.8.2)\n",
            "Requirement already satisfied: pytz>=2020.1 in /usr/local/lib/python3.11/dist-packages (from pandas) (2024.2)\n",
            "Requirement already satisfied: tzdata>=2022.7 in /usr/local/lib/python3.11/dist-packages (from pandas) (2025.1)\n",
            "Requirement already satisfied: anyio in /usr/local/lib/python3.11/dist-packages (from httpx>=0.21.2->cohere) (3.7.1)\n",
            "Requirement already satisfied: certifi in /usr/local/lib/python3.11/dist-packages (from httpx>=0.21.2->cohere) (2024.12.14)\n",
            "Requirement already satisfied: httpcore==1.* in /usr/local/lib/python3.11/dist-packages (from httpx>=0.21.2->cohere) (1.0.7)\n",
            "Requirement already satisfied: idna in /usr/local/lib/python3.11/dist-packages (from httpx>=0.21.2->cohere) (3.10)\n",
            "Requirement already satisfied: h11<0.15,>=0.13 in /usr/local/lib/python3.11/dist-packages (from httpcore==1.*->httpx>=0.21.2->cohere) (0.14.0)\n",
            "Requirement already satisfied: MarkupSafe>=2.0 in /usr/local/lib/python3.11/dist-packages (from Jinja2>=3.1.2->flask) (3.0.2)\n",
            "Requirement already satisfied: annotated-types>=0.6.0 in /usr/local/lib/python3.11/dist-packages (from pydantic>=1.9.2->cohere) (0.7.0)\n",
            "Requirement already satisfied: six>=1.5 in /usr/local/lib/python3.11/dist-packages (from python-dateutil>=2.8.2->pandas) (1.17.0)\n",
            "Requirement already satisfied: charset-normalizer<4,>=2 in /usr/local/lib/python3.11/dist-packages (from requests<3.0.0,>=2.0.0->cohere) (3.4.1)\n",
            "Requirement already satisfied: urllib3<3,>=1.21.1 in /usr/local/lib/python3.11/dist-packages (from requests<3.0.0,>=2.0.0->cohere) (2.3.0)\n",
            "Requirement already satisfied: huggingface-hub<1.0,>=0.16.4 in /usr/local/lib/python3.11/dist-packages (from tokenizers<1,>=0.15->cohere) (0.27.1)\n",
            "Requirement already satisfied: filelock in /usr/local/lib/python3.11/dist-packages (from huggingface-hub<1.0,>=0.16.4->tokenizers<1,>=0.15->cohere) (3.17.0)\n",
            "Requirement already satisfied: fsspec>=2023.5.0 in /usr/local/lib/python3.11/dist-packages (from huggingface-hub<1.0,>=0.16.4->tokenizers<1,>=0.15->cohere) (2024.10.0)\n",
            "Requirement already satisfied: packaging>=20.9 in /usr/local/lib/python3.11/dist-packages (from huggingface-hub<1.0,>=0.16.4->tokenizers<1,>=0.15->cohere) (24.2)\n",
            "Requirement already satisfied: pyyaml>=5.1 in /usr/local/lib/python3.11/dist-packages (from huggingface-hub<1.0,>=0.16.4->tokenizers<1,>=0.15->cohere) (6.0.2)\n",
            "Requirement already satisfied: tqdm>=4.42.1 in /usr/local/lib/python3.11/dist-packages (from huggingface-hub<1.0,>=0.16.4->tokenizers<1,>=0.15->cohere) (4.67.1)\n",
            "Requirement already satisfied: sniffio>=1.1 in /usr/local/lib/python3.11/dist-packages (from anyio->httpx>=0.21.2->cohere) (1.3.1)\n"
          ]
        }
      ],
      "source": [
        "pip install cohere flask pandas"
      ]
    },
    {
      "cell_type": "code",
      "source": [
        "import cohere\n",
        "import pandas as pd\n",
        "from flask import Flask, request, jsonify\n",
        "\n",
        "# Initialize Cohere client\n",
        "cohere_client = cohere.Client(\"Your_ApiKey_Here\")\n"
      ],
      "metadata": {
        "id": "j3FCjULIaJIO"
      },
      "execution_count": null,
      "outputs": []
    },
    {
      "cell_type": "code",
      "source": [
        "# Sample job postings\n",
        "job_postings = [\n",
        "    {\"title\": \"Data Scientist\", \"description\": \"Analyze and interpret complex data to build AI models.\"},\n",
        "    {\"title\": \"AI Engineer\", \"description\": \"Develop AI systems and optimize pipelines.\"},\n",
        "    {\"title\": \"Backend Developer\", \"description\": \"Build and maintain server-side applications.\"},\n",
        "    {\"title\": \"DevOps Engineer\", \"description\": \"Ensure reliable deployment of applications and services.\"}\n",
        "]"
      ],
      "metadata": {
        "id": "WBSOeVRqc5up"
      },
      "execution_count": null,
      "outputs": []
    },
    {
      "cell_type": "code",
      "source": [
        "# Function to analyze resumes\n",
        "def analyze_resume(resume_text):\n",
        "    # Get embeddings for the resume\n",
        "    response = cohere_client.embed(texts=[resume_text])\n",
        "    resume_embedding = response.embeddings[0]\n",
        "\n",
        "    # Get embeddings for job postings\n",
        "    job_descriptions = [job[\"description\"] for job in job_postings]\n",
        "    job_embeddings = cohere_client.embed(texts=job_descriptions).embeddings\n",
        "\n",
        "    # Find the most relevant jobs using cosine similarity\n",
        "    scores = [\n",
        "        (job_postings[i][\"title\"], sum(a * b for a, b in zip(resume_embedding, job_embeddings[i])))\n",
        "        for i in range(len(job_postings))\n",
        "    ]\n",
        "    scores.sort(key=lambda x: x[1], reverse=True)\n",
        "\n",
        "    # Return the top 3 relevant jobs\n",
        "    return [job[0] for job in scores[:3]]\n"
      ],
      "metadata": {
        "id": "Y30gs9hBc99R"
      },
      "execution_count": null,
      "outputs": []
    },
    {
      "cell_type": "code",
      "source": [
        "# Function to suggest skills\n",
        "def suggest_skills(resume_text):\n",
        "    prompt = f\"The following resume belongs to a software engineer:\\n\\n{resume_text}\\n\\nSuggest five skills they should improve:\"\n",
        "    response = cohere_client.generate(\n",
        "        model=\"command-xlarge-nightly\",\n",
        "        prompt=prompt,\n",
        "        max_tokens=300,\n",
        "        temperature=0.5,\n",
        "    )\n",
        "    return response.generations[0].text.strip().split(\"\\n\")"
      ],
      "metadata": {
        "id": "AI_dU2k2dCrs"
      },
      "execution_count": null,
      "outputs": []
    },
    {
      "cell_type": "code",
      "source": [
        "# Interactive prompt for resume skills\n",
        "def get_user_input():\n",
        "    print(\"Enter your skill set and experience as a resume. For example:\")\n",
        "    print(\"\"\"\n",
        "    - Experienced in Python and Machine Learning.\n",
        "    - Proficient in cloud platforms like AWS and Azure.\n",
        "    - Developed scalable solutions for data analysis.\n",
        "    - Collaborated with cross-functional teams.\n",
        "    \"\"\")\n",
        "    print(\"\\nNow, input your own resume details:\")\n",
        "    resume_text = input(\"> \")\n",
        "    return resume_text\n",
        "\n",
        "# Main function\n",
        "def main():\n",
        "    resume_text = get_user_input()\n",
        "\n",
        "    # Analyze the resume\n",
        "    job_recommendations = analyze_resume(resume_text)\n",
        "    skill_suggestions = suggest_skills(resume_text)\n",
        "\n",
        "    # Display results\n",
        "    print(\"\\nRecommended Jobs:\")\n",
        "    for job in job_recommendations:\n",
        "        print(f\"- {job}\")\n",
        "\n",
        "    print(\"\\nSkills to Learn:\")\n",
        "    for skill in skill_suggestions:\n",
        "        print(f\"- {skill}\")\n",
        "\n",
        "# Run the program\n",
        "main()"
      ],
      "metadata": {
        "colab": {
          "base_uri": "https://localhost:8080/"
        },
        "id": "Z_NmJW2idGMs",
        "outputId": "d50c5a83-e2da-4a84-cf47-63adb72e70b0"
      },
      "execution_count": null,
      "outputs": [
        {
          "output_type": "stream",
          "name": "stdout",
          "text": [
            "Enter your skill set and experience as a resume. For example:\n",
            "\n",
            "    - Experienced in Python and Machine Learning.\n",
            "    - Proficient in cloud platforms like AWS and Azure.\n",
            "    - Developed scalable solutions for data analysis.\n",
            "    - Collaborated with cross-functional teams.\n",
            "    \n",
            "\n",
            "Now, input your own resume details:\n",
            "> Experienced in Python and Machine Learnin\n",
            "\n",
            "Recommended Jobs:\n",
            "- AI Engineer\n",
            "- Data Scientist\n",
            "- Backend Developer\n",
            "\n",
            "Skills to Learn:\n",
            "- 1. Data Structures and Algorithms: A strong understanding of data structures such as arrays, linked lists, trees, graphs, and algorithms like sorting, searching, and dynamic programming is essential for software engineers. Improving these skills can enhance problem-solving abilities and code efficiency. \n",
            "- \n",
            "- 2. Database Management: Knowledge of relational databases (e.g., SQL), NoSQL databases (e.g., MongoDB), and database design principles is crucial. Software engineers should focus on improving their skills in querying, optimizing database performance, and understanding database architecture. \n",
            "- \n",
            "- 3. Version Control Systems: Proficiency in version control systems like Git is vital for collaboration and managing code changes. Engineers should aim to enhance their skills in branching, merging, conflict resolution, and utilizing Git workflows effectively. \n",
            "- \n",
            "- 4. Software Architecture and Design Patterns: Understanding software architecture principles and design patterns helps in building scalable and maintainable software. Engineers can improve their skills by learning about architectural patterns like MVC (Model-View-Controller), MVP (Model-View-Presenter), and design patterns like Singleton, Factory, and Observer. \n",
            "- \n",
            "- 5. Testing and Debugging: Writing comprehensive unit tests, integration tests, and practicing Test-Driven Development (TDD) are valuable skills. Engineers should also focus on improving their debugging techniques, including the use of debugging tools and understanding common software bugs and how to fix them efficiently.\n"
          ]
        }
      ]
    },
    {
      "cell_type": "code",
      "source": [],
      "metadata": {
        "id": "b6AfpKQYgJ5B"
      },
      "execution_count": null,
      "outputs": []
    }
  ]
}